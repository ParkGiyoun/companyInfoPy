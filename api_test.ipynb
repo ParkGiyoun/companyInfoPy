{
 "cells": [
  {
   "cell_type": "markdown",
   "metadata": {},
   "source": [
    "# 삼성전자의 손익계산서, 재무상태표 정보 출력 및 활용\n",
    "### 법인등록번호 130111-0006246\n",
    "### 사업자등록번호 124-81-00998\n",
    "### 회계연도 2020\n",
    "\n",
    "# ------------------------------\n",
    "### tool: requests\n",
    "#### $ python -m pip install requests\n",
    "\n",
    "### tool: xmltodict\n",
    "#### $ pip install xmltodict\n",
    "# ------------------------------\n",
    "### 참고 : https://www.geeksforgeeks.org/python-xml-to-json/ (XML -> JSON 변환법)\n"
   ]
  },
  {
   "cell_type": "code",
   "execution_count": 1,
   "metadata": {},
   "outputs": [],
   "source": [
    "import requests as rq\n",
    "import json, xmltodict\n",
    "\n",
    "ServiceKey = \"ZS%2Fc%2B16anKABmvp0K8KuNoC3%2Fuwb0luEMbFLqCfjFxRuvQGeh2a5VWSgI7acEMi0A27cn%2BRwDQfCOSm5t%2Bs1PQ%3D%3D\"\n",
    "\n",
    "CorpNum = \"130111\" + \"0006246\"\n",
    "\n",
    "Year = \"2020\"\n",
    "\n",
    "#손익계산서 URL\n",
    "S_I = \"http://apis.data.go.kr/1160100/service/GetFinaStatInfoService/getIncoStat?serviceKey=\"+ServiceKey+\"&numOfRows=10&pageNo=1&numOfRows=xml&crno=\"+CorpNum+\"&bizYear=\"+Year\n",
    "#재무상태표 URL\n",
    "S_FP = \"\""
   ]
  },
  {
   "cell_type": "code",
   "execution_count": 2,
   "metadata": {},
   "outputs": [],
   "source": [
    "S_I_content = rq.get(S_I).content\n",
    "S_I_dict = xmltodict.parse(S_I_content)"
   ]
  },
  {
   "cell_type": "code",
   "execution_count": 3,
   "metadata": {},
   "outputs": [],
   "source": [
    "#string 형태의 json\n",
    "S_I_jsonString = json.dumps(S_I_dict['response']['body']['items']['item'], ensure_ascii=False)"
   ]
  },
  {
   "cell_type": "code",
   "execution_count": 4,
   "metadata": {},
   "outputs": [],
   "source": [
    "#string -> json\n",
    "S_I_jsonObj = json.loads(S_I_jsonString)"
   ]
  },
  {
   "cell_type": "code",
   "execution_count": 5,
   "metadata": {},
   "outputs": [
    {
     "data": {
      "text/plain": [
       "'1,320,000'"
      ]
     },
     "execution_count": 5,
     "metadata": {},
     "output_type": "execute_result"
    }
   ],
   "source": [
    "#영미식 단위로 끊어주는 함수\n",
    "\n",
    "def money(mon):\n",
    "    a = mon\n",
    "    result = str(mon)\n",
    "    finalresult = \"\"\n",
    "    count = 0\n",
    "    while (a > 0):\n",
    "        a = a//1000\n",
    "        if(a != 0):\n",
    "            count+=1\n",
    "    for i in range(count):\n",
    "        info = -3*count\n",
    "        index = info+i*3\n",
    "        result = result[:index] + ',' + result[index:]\n",
    "        \n",
    "    return result\n",
    "#----------------\n",
    "#test\n",
    "money(1320000)\n",
    "#result = 1,320,000\n",
    "#----------------\n",
    "# O(n)"
   ]
  },
  {
   "cell_type": "code",
   "execution_count": 6,
   "metadata": {},
   "outputs": [
    {
     "name": "stdout",
     "output_type": "stream",
     "text": [
      "==== 영업이익 ====\n",
      "당분기: 0원\n",
      "당기: 35,993,876,000,000원\n",
      "전분기: 0원\n",
      "전기: 27,768,509,000,000원\n",
      "전전기: 58,886,669,000,000원\n",
      "재무제표 종류: 연결재무제표\n",
      "\n",
      "==== 당기순이익(손실) ====\n",
      "당분기: 0원\n",
      "당기: 26,407,832,000,000원\n",
      "전분기: 0원\n",
      "전기: 21,738,865,000,000원\n",
      "전전기: 44,344,857,000,000원\n",
      "재무제표 종류: 연결재무제표\n",
      "\n",
      "==== 법인세비용차감전순이익(손실) ====\n",
      "당분기: 0원\n",
      "당기: 36,345,117,000,000원\n",
      "전분기: 0원\n",
      "전기: 30,432,189,000,000원\n",
      "전전기: 61,159,958,000,000원\n",
      "재무제표 종류: 연결재무제표\n",
      "\n",
      "==== 수익(매출액) ====\n",
      "당분기: 0원\n",
      "당기: 236,806,988,000,000원\n",
      "전분기: 0원\n",
      "전기: 230,400,881,000,000원\n",
      "전전기: 243,771,415,000,000원\n",
      "재무제표 종류: 연결재무제표\n",
      "\n",
      "==== 영업이익 ====\n",
      "당분기: 0원\n",
      "당기: 20,518,974,000,000원\n",
      "전분기: 0원\n",
      "전기: 14,115,067,000,000원\n",
      "전전기: 43,699,451,000,000원\n",
      "재무제표 종류: 별도재무제표\n",
      "\n",
      "==== 당기순이익(손실) ====\n",
      "당분기: 0원\n",
      "당기: 15,615,018,000,000원\n",
      "전분기: 0원\n",
      "전기: 15,353,323,000,000원\n",
      "전전기: 32,815,127,000,000원\n",
      "재무제표 종류: 별도재무제표\n",
      "\n",
      "==== 법인세비용차감전순이익(손실) ====\n",
      "당분기: 0원\n",
      "당기: 20,451,923,000,000원\n",
      "전분기: 0원\n",
      "전기: 19,032,469,000,000원\n",
      "전전기: 44,398,855,000,000원\n",
      "재무제표 종류: 별도재무제표\n",
      "\n",
      "==== 수익(매출액) ====\n",
      "당분기: 0원\n",
      "당기: 166,311,191,000,000원\n",
      "전분기: 0원\n",
      "전기: 154,772,859,000,000원\n",
      "전전기: 170,381,870,000,000원\n",
      "재무제표 종류: 별도재무제표\n",
      "\n"
     ]
    }
   ],
   "source": [
    "for i in S_I_jsonObj:\n",
    "    print('====',i['acitNm'],'====')\n",
    "    print(\"당분기:\", money(int(i['thqrAcitAmt']))+\"원\")\n",
    "    print(\"당기:\",money(int(i['crtmAcitAmt']))+\"원\")\n",
    "    print(\"전분기:\",money(int(i['lsqtAcitAmt']))+\"원\")\n",
    "    print(\"전기:\",money(int(i['pvtrAcitAmt']))+\"원\")\n",
    "    print(\"전전기:\",money(int(i['bpvtrAcitAmt']))+\"원\")\n",
    "    if(i['fnclDcdNm'] == \"연결재무제표 [member]\"):\n",
    "        print(\"재무제표 종류:\",\"연결재무제표\\n\")\n",
    "    elif i['fnclDcdNm'] == \"별도재무제표 [member]\":\n",
    "        print(\"재무제표 종류:\",\"별도재무제표\\n\")"
   ]
  },
  {
   "cell_type": "code",
   "execution_count": null,
   "metadata": {},
   "outputs": [],
   "source": []
  }
 ],
 "metadata": {
  "interpreter": {
   "hash": "2db524e06e9f5f4ffedc911c917cb75e12dbc923643829bf417064a77eb14d37"
  },
  "kernelspec": {
   "display_name": "Python 3",
   "language": "python",
   "name": "python3"
  },
  "language_info": {
   "codemirror_mode": {
    "name": "ipython",
    "version": 3
   },
   "file_extension": ".py",
   "mimetype": "text/x-python",
   "name": "python",
   "nbconvert_exporter": "python",
   "pygments_lexer": "ipython3",
   "version": "3.8.8"
  }
 },
 "nbformat": 4,
 "nbformat_minor": 2
}