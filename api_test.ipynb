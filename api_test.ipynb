{
 "cells": [
  {
   "source": [
    "## 법인 등록번호 가져오기\n",
    "## ==============\n",
    "### tool\n",
    "### 1. selenium\n",
    "#### $ pip install selenium\n",
    "### 2. Chrome driver (직접 다운로드)\n",
    "## ==============\n",
    "### 크롬 정보 필요 -> chrome://version\n",
    "###\t91.0.4472.114"
   ],
   "cell_type": "markdown",
   "metadata": {}
  },
  {
   "cell_type": "code",
   "execution_count": 1,
   "metadata": {},
   "outputs": [
    {
     "output_type": "stream",
     "name": "stdout",
     "text": [
      "공시 System....\n",
      "정보 조회...\n",
      "1301110006246\n"
     ]
    }
   ],
   "source": [
    "from selenium import webdriver\n",
    "# 페이지 불러올 때 까지 기다기기 위함\n",
    "from selenium.webdriver.common.by import By\n",
    "from selenium.webdriver.support.ui import WebDriverWait\n",
    "from selenium.webdriver.support import expected_conditions as EC\n",
    "\n",
    "corp = \"삼성전자\"\n",
    "browser = webdriver.Chrome('./chromedriver.exe')\n",
    "# 주소 get\n",
    "browser.get(\"http://dart.fss.or.kr/\")\n",
    "\n",
    "# 검색창 element\n",
    "searchElem = browser.find_element_by_id(\"textCrpNm\")\n",
    "\n",
    "# 검색창 click\n",
    "# searchElem.click()\n",
    "\n",
    "# 키 값 입력을 위함\n",
    "from selenium.webdriver.common.keys import Keys\n",
    "\n",
    "# 검색\n",
    "searchElem.send_keys(corp) # 여기선 위의 import 필요 없음.\n",
    "searchElem.send_keys(Keys.ENTER)\n",
    "\n",
    "# 기업 리스트 조회까지 대기\n",
    "try:\n",
    "    # 기업 링크 클릭\n",
    "    corpLink = WebDriverWait(browser, 10).until(EC.presence_of_all_elements_located((By.LINK_TEXT, corp)))\n",
    "    corpLink[0].click()\n",
    "finally:\n",
    "    print(\"공시 System....\")\n",
    "\n",
    "# 법인등록번호 Xpath\n",
    "xpath = \"/html/body/div[8]/div[2]/div[1]/div/div/div/div/div/div/div/div[2]/div/table/tbody/tr[7]/td\"\n",
    "CorpNum = \"\"\n",
    "# 기업 정보 팝업이 될 때 까지 대기\n",
    "try:\n",
    "    CorpNumber = WebDriverWait(browser, 10).until(EC.presence_of_element_located((By.XPATH, xpath)))\n",
    "    CorpNum = CorpNumber.text\n",
    "finally: \n",
    "    print(\"정보 조회...\")\n",
    "    browser.quit()\n",
    "\n",
    "# 사용할 법인 등록 번호\n",
    "CorpNum = CorpNum[:6]+CorpNum[7:]\n",
    "print(CorpNum)\n"
   ]
  },
  {
   "cell_type": "markdown",
   "metadata": {},
   "source": [
    "# 기업의 손익계산서, 재무상태표 정보 출력 및 활용\n",
    "### Ex) 삼성전자\n",
    "### 법인등록번호 130111-0006246\n",
    "### 사업자등록번호 124-81-00998\n",
    "### 회계연도 2020\n",
    "\n",
    "# ------------------------------\n",
    "### tool: requests\n",
    "#### $ python -m pip install requests\n",
    "\n",
    "### tool: xmltodict\n",
    "#### $ pip install xmltodict\n",
    "# ------------------------------\n",
    "### 참고 : https://www.geeksforgeeks.org/python-xml-to-json/ (XML -> JSON 변환법)\n"
   ]
  },
  {
   "cell_type": "code",
   "execution_count": 2,
   "metadata": {},
   "outputs": [
    {
     "output_type": "execute_result",
     "data": {
      "text/plain": [
       "'1,320,000'"
      ]
     },
     "metadata": {},
     "execution_count": 2
    }
   ],
   "source": [
    "#영미식 단위로 끊어주는 함수\n",
    "\n",
    "def money(mon):\n",
    "    a = mon\n",
    "    result = str(mon)\n",
    "    finalresult = \"\"\n",
    "    count = 0\n",
    "    while (a > 0):\n",
    "        a = a//1000\n",
    "        if(a != 0):\n",
    "            count+=1\n",
    "    for i in range(count):\n",
    "        info = -3*count\n",
    "        index = info+i*3\n",
    "        result = result[:index] + ',' + result[index:]\n",
    "        \n",
    "    return result\n",
    "#----------------\n",
    "#test\n",
    "money(1320000)\n",
    "#result = 1,320,000\n",
    "#----------------\n",
    "# O(n)"
   ]
  },
  {
   "cell_type": "code",
   "execution_count": 3,
   "metadata": {},
   "outputs": [],
   "source": [
    "import requests as rq\n",
    "import json, xmltodict\n",
    "\n",
    "ServiceKey = \"ZS%2Fc%2B16anKABmvp0K8KuNoC3%2Fuwb0luEMbFLqCfjFxRuvQGeh2a5VWSgI7acEMi0A27cn%2BRwDQfCOSm5t%2Bs1PQ%3D%3D\"\n",
    "\n",
    "Year = \"2020\"\n",
    "\n",
    "#법인등록번호는 위에서 스크래핑 해온 데이터 \"CorpNum\"사용.\n",
    "#손익계산서 URL\n",
    "S_I = \"http://apis.data.go.kr/1160100/service/GetFinaStatInfoService/getIncoStat?serviceKey=\"+ServiceKey+\"&numOfRows=10&pageNo=1&numOfRows=xml&crno=\"+CorpNum+\"&bizYear=\"+Year\n",
    "#재무상태표 URL\n",
    "S_FP = \"http://apis.data.go.kr/1160100/service/GetFinaStatInfoService/getBs?serviceKey=\"+ServiceKey+\"&numOfRows=18&pageNo=1&numOfRows=xml&crno=\"+CorpNum+\"&bizYear=\"+Year"
   ]
  },
  {
   "source": [
    "### 손익계산서 처리"
   ],
   "cell_type": "markdown",
   "metadata": {}
  },
  {
   "cell_type": "code",
   "execution_count": 4,
   "metadata": {},
   "outputs": [],
   "source": [
    "S_I_content = rq.get(S_I).content\n",
    "S_I_dict = xmltodict.parse(S_I_content)"
   ]
  },
  {
   "cell_type": "code",
   "execution_count": 5,
   "metadata": {},
   "outputs": [],
   "source": [
    "#string 형태의 json\n",
    "S_I_jsonString = json.dumps(S_I_dict['response']['body']['items']['item'], ensure_ascii=False)"
   ]
  },
  {
   "cell_type": "code",
   "execution_count": 6,
   "metadata": {},
   "outputs": [],
   "source": [
    "#string -> json\n",
    "S_I_jsonObj = json.loads(S_I_jsonString)"
   ]
  },
  {
   "cell_type": "code",
   "execution_count": 7,
   "metadata": {},
   "outputs": [
    {
     "output_type": "stream",
     "name": "stdout",
     "text": [
      "==== 영업이익 ====\n당분기: 0원\n당기: 35,993,876,000,000원\n전분기: 0원\n전기: 27,768,509,000,000원\n전전기: 58,886,669,000,000원\n재무제표 종류: 연결재무제표\n\n==== 당기순이익(손실) ====\n당분기: 0원\n당기: 26,407,832,000,000원\n전분기: 0원\n전기: 21,738,865,000,000원\n전전기: 44,344,857,000,000원\n재무제표 종류: 연결재무제표\n\n==== 법인세비용차감전순이익(손실) ====\n당분기: 0원\n당기: 36,345,117,000,000원\n전분기: 0원\n전기: 30,432,189,000,000원\n전전기: 61,159,958,000,000원\n재무제표 종류: 연결재무제표\n\n==== 수익(매출액) ====\n당분기: 0원\n당기: 236,806,988,000,000원\n전분기: 0원\n전기: 230,400,881,000,000원\n전전기: 243,771,415,000,000원\n재무제표 종류: 연결재무제표\n\n==== 영업이익 ====\n당분기: 0원\n당기: 20,518,974,000,000원\n전분기: 0원\n전기: 14,115,067,000,000원\n전전기: 43,699,451,000,000원\n재무제표 종류: 별도재무제표\n\n==== 당기순이익(손실) ====\n당분기: 0원\n당기: 15,615,018,000,000원\n전분기: 0원\n전기: 15,353,323,000,000원\n전전기: 32,815,127,000,000원\n재무제표 종류: 별도재무제표\n\n==== 법인세비용차감전순이익(손실) ====\n당분기: 0원\n당기: 20,451,923,000,000원\n전분기: 0원\n전기: 19,032,469,000,000원\n전전기: 44,398,855,000,000원\n재무제표 종류: 별도재무제표\n\n==== 수익(매출액) ====\n당분기: 0원\n당기: 166,311,191,000,000원\n전분기: 0원\n전기: 154,772,859,000,000원\n전전기: 170,381,870,000,000원\n재무제표 종류: 별도재무제표\n\n"
     ]
    }
   ],
   "source": [
    "for i in S_I_jsonObj:\n",
    "    print('====',i['acitNm'],'====')\n",
    "    print(\"당분기:\", money(int(i['thqrAcitAmt']))+\"원\")\n",
    "    print(\"당기:\",money(int(i['crtmAcitAmt']))+\"원\")\n",
    "    print(\"전분기:\",money(int(i['lsqtAcitAmt']))+\"원\")\n",
    "    print(\"전기:\",money(int(i['pvtrAcitAmt']))+\"원\")\n",
    "    print(\"전전기:\",money(int(i['bpvtrAcitAmt']))+\"원\")\n",
    "    if(i['fnclDcdNm'] == \"연결재무제표 [member]\"):\n",
    "        print(\"재무제표 종류:\",\"연결재무제표\\n\")\n",
    "    elif i['fnclDcdNm'] == \"별도재무제표 [member]\":\n",
    "        print(\"재무제표 종류:\",\"별도재무제표\\n\")"
   ]
  },
  {
   "source": [
    "### 재무상태표 처리"
   ],
   "cell_type": "markdown",
   "metadata": {}
  },
  {
   "cell_type": "code",
   "execution_count": 8,
   "metadata": {},
   "outputs": [],
   "source": [
    "S_FP_content = rq.get(S_FP).content\n",
    "S_FP_dict = xmltodict.parse(S_FP_content)"
   ]
  },
  {
   "cell_type": "code",
   "execution_count": 9,
   "metadata": {},
   "outputs": [],
   "source": [
    "#string 형태의 json\n",
    "S_FP_jsonString = json.dumps(S_FP_dict['response']['body']['items']['item'], ensure_ascii=False)"
   ]
  },
  {
   "cell_type": "code",
   "execution_count": 10,
   "metadata": {},
   "outputs": [],
   "source": [
    "#string -> json\n",
    "S_FP_jsonObj = json.loads(S_FP_jsonString)"
   ]
  },
  {
   "cell_type": "code",
   "execution_count": 11,
   "metadata": {},
   "outputs": [
    {
     "output_type": "stream",
     "name": "stdout",
     "text": [
      "==== 자산총계 ====\n당분기: 0원\n당기: 378,235,718,000,000원\n전분기: 0원\n전기: 352,564,497,000,000원\n전전기: 339,357,244,000,000원\n재무제표 종류: 연결재무제표\n\n==== 유동자산 ====\n당분기: 0원\n당기: 198,215,579,000,000원\n전분기: 0원\n전기: 181,385,260,000,000원\n전전기: 174,697,424,000,000원\n재무제표 종류: 연결재무제표\n\n==== 유동부채 ====\n당분기: 0원\n당기: 75,604,351,000,000원\n전분기: 0원\n전기: 63,782,764,000,000원\n전전기: 69,081,510,000,000원\n재무제표 종류: 연결재무제표\n\n==== 자본총계 ====\n당분기: 0원\n당기: 275,948,016,000,000원\n전분기: 0원\n전기: 262,880,421,000,000원\n전전기: 247,753,177,000,000원\n재무제표 종류: 연결재무제표\n\n==== 자본금 ====\n당분기: 0원\n당기: 897,514,000,000원\n전분기: 0원\n전기: 897,514,000,000원\n전전기: 897,514,000,000원\n재무제표 종류: 연결재무제표\n\n==== 부채총계 ====\n당분기: 0원\n당기: 102,287,702,000,000원\n전분기: 0원\n전기: 89,684,076,000,000원\n전전기: 91,604,067,000,000원\n재무제표 종류: 연결재무제표\n\n==== 비유동자산 ====\n당분기: 0원\n당기: 180,020,139,000,000원\n전분기: 0원\n전기: 171,179,237,000,000원\n전전기: 164,659,820,000,000원\n재무제표 종류: 연결재무제표\n\n==== 비유동부채 ====\n당분기: 0원\n당기: 26,683,351,000,000원\n전분기: 0원\n전기: 25,901,312,000,000원\n전전기: 22,522,557,000,000원\n재무제표 종류: 연결재무제표\n\n==== 이익잉여금(결손금) ====\n당분기: 0원\n당기: 271,068,211,000,000원\n전분기: 0원\n전기: 254,582,894,000,000원\n전전기: 242,698,956,000,000원\n재무제표 종류: 연결재무제표\n\n==== 자산총계 ====\n당분기: 0원\n당기: 229,664,427,000,000원\n전분기: 0원\n전기: 216,180,920,000,000원\n전전기: 219,021,357,000,000원\n재무제표 종류: 별도재무제표\n\n==== 유동자산 ====\n당분기: 0원\n당기: 73,798,549,000,000원\n전분기: 0원\n전기: 72,659,080,000,000원\n전전기: 80,039,455,000,000원\n재무제표 종류: 별도재무제표\n\n==== 유동부채 ====\n당분기: 0원\n당기: 44,412,904,000,000원\n전분기: 0원\n전기: 36,237,164,000,000원\n전전기: 43,145,053,000,000원\n재무제표 종류: 별도재무제표\n\n==== 자본총계 ====\n당분기: 0원\n당기: 183,316,724,000,000원\n전분기: 0원\n전기: 177,870,247,000,000원\n전전기: 172,988,125,000,000원\n재무제표 종류: 별도재무제표\n\n==== 자본금 ====\n당분기: 0원\n당기: 897,514,000,000원\n전분기: 0원\n전기: 897,514,000,000원\n전전기: 897,514,000,000원\n재무제표 종류: 별도재무제표\n\n==== 부채총계 ====\n당분기: 0원\n당기: 46,347,703,000,000원\n전분기: 0원\n전기: 38,310,673,000,000원\n전전기: 46,033,232,000,000원\n재무제표 종류: 별도재무제표\n\n==== 비유동자산 ====\n당분기: 0원\n당기: 155,865,878,000,000원\n전분기: 0원\n전기: 143,521,840,000,000원\n전전기: 138,981,902,000,000원\n재무제표 종류: 별도재무제표\n\n==== 비유동부채 ====\n당분기: 0원\n당기: 1,934,799,000,000원\n전분기: 0원\n전기: 2,073,509,000,000원\n전전기: 2,888,179,000,000원\n재무제표 종류: 별도재무제표\n\n==== 이익잉여금(결손금) ====\n당분기: 0원\n당기: 178,284,102,000,000원\n전분기: 0원\n전기: 172,288,326,000,000원\n전전기: 166,555,532,000,000원\n재무제표 종류: 별도재무제표\n\n"
     ]
    }
   ],
   "source": [
    "for i in S_FP_jsonObj:\n",
    "    print('====',i['acitNm'],'====')\n",
    "    print(\"당분기:\", money(int(i['thqrAcitAmt']))+\"원\")\n",
    "    print(\"당기:\",money(int(i['crtmAcitAmt']))+\"원\")\n",
    "    print(\"전분기:\",money(int(i['lsqtAcitAmt']))+\"원\")\n",
    "    print(\"전기:\",money(int(i['pvtrAcitAmt']))+\"원\")\n",
    "    print(\"전전기:\",money(int(i['bpvtrAcitAmt']))+\"원\")\n",
    "    if(i['fnclDcdNm'] == \"연결재무제표 [member]\"):\n",
    "        print(\"재무제표 종류:\",\"연결재무제표\\n\")\n",
    "    elif i['fnclDcdNm'] == \"별도재무제표 [member]\":\n",
    "        print(\"재무제표 종류:\",\"별도재무제표\\n\")"
   ]
  }
 ],
 "metadata": {
  "interpreter": {
   "hash": "2db524e06e9f5f4ffedc911c917cb75e12dbc923643829bf417064a77eb14d37"
  },
  "kernelspec": {
   "name": "python3",
   "display_name": "Python 3.8.5 64-bit"
  },
  "language_info": {
   "codemirror_mode": {
    "name": "ipython",
    "version": 3
   },
   "file_extension": ".py",
   "mimetype": "text/x-python",
   "name": "python",
   "nbconvert_exporter": "python",
   "pygments_lexer": "ipython3",
   "version": "3.8.5"
  }
 },
 "nbformat": 4,
 "nbformat_minor": 2
}