{
 "cells": [
  {
   "cell_type": "markdown",
   "metadata": {},
   "source": [
    "## 법인 등록번호 가져오기\n",
    "## ==============\n",
    "### tool\n",
    "### 1. selenium\n",
    "#### - pip install selenium\n",
    "### 2. Chrome driver (직접 다운로드)\n",
    "## ==============\n",
    "### 크롬 정보 필요 -> chrome://version\n",
    "###\t91.0.4472.114"
   ]
  },
  {
   "cell_type": "code",
   "execution_count": 2,
   "metadata": {},
   "outputs": [
    {
     "output_type": "stream",
     "name": "stdout",
     "text": [
      "공시 System....\n",
      "정보 조회...\n",
      "1301110006246\n"
     ]
    }
   ],
   "source": [
    "from selenium import webdriver\n",
    "# 페이지 불러올 때 까지 기다기기 위함\n",
    "from selenium.webdriver.common.by import By\n",
    "from selenium.webdriver.support.ui import WebDriverWait\n",
    "from selenium.webdriver.support import expected_conditions as EC\n",
    "\n",
    "corp = \"삼성전자\"\n",
    "browser = webdriver.Chrome('./chromedriver.exe')\n",
    "# 주소 get\n",
    "browser.get(\"http://dart.fss.or.kr/\")\n",
    "\n",
    "# 검색창 element\n",
    "searchElem = browser.find_element_by_id(\"textCrpNm\")\n",
    "\n",
    "# 검색창 click\n",
    "# searchElem.click()\n",
    "\n",
    "# 키 값 입력을 위함\n",
    "from selenium.webdriver.common.keys import Keys\n",
    "\n",
    "# 검색\n",
    "searchElem.send_keys(corp) # 여기선 위의 import 필요 없음.\n",
    "searchElem.send_keys(Keys.ENTER)\n",
    "\n",
    "# 기업 리스트 조회까지 대기\n",
    "try:\n",
    "    # 기업 링크 클릭\n",
    "    corpLink = WebDriverWait(browser, 10).until(EC.presence_of_all_elements_located((By.LINK_TEXT, corp)))\n",
    "    corpLink[0].click()\n",
    "finally:\n",
    "    print(\"공시 System....\")\n",
    "\n",
    "# 법인등록번호 Xpath\n",
    "xpath = \"/html/body/div[8]/div[2]/div[1]/div/div/div/div/div/div/div/div[2]/div/table/tbody/tr[7]/td\"\n",
    "CorpNum = \"\"\n",
    "# 기업 정보 팝업이 될 때 까지 대기\n",
    "try:\n",
    "    CorpNumber = WebDriverWait(browser, 10).until(EC.presence_of_element_located((By.XPATH, xpath)))\n",
    "    CorpNum = CorpNumber.text\n",
    "finally: \n",
    "    print(\"정보 조회...\")\n",
    "    browser.quit()\n",
    "\n",
    "# 사용할 법인 등록 번호\n",
    "CorpNum = CorpNum[:6]+CorpNum[7:]\n",
    "print(CorpNum)\n"
   ]
  },
  {
   "cell_type": "markdown",
   "metadata": {},
   "source": [
    "# 기업의 손익계산서, 재무상태표 정보 출력 및 활용\n",
    "### Ex) 삼성전자\n",
    "### 법인등록번호 130111-0006246\n",
    "### 사업자등록번호 124-81-00998\n",
    "### 회계연도 2020\n",
    "\n",
    "# ------------------------------\n",
    "### tool: requests\n",
    "#### - python -m pip install requests\n",
    "\n",
    "### tool: xmltodict\n",
    "#### - pip install xmltodict\n",
    "# ------------------------------\n",
    "### 참고 : https://www.geeksforgeeks.org/python-xml-to-json/ (XML -> JSON 변환법)\n"
   ]
  },
  {
   "cell_type": "code",
   "execution_count": 3,
   "metadata": {},
   "outputs": [
    {
     "output_type": "execute_result",
     "data": {
      "text/plain": [
       "'1,320,000'"
      ]
     },
     "metadata": {},
     "execution_count": 3
    }
   ],
   "source": [
    "#영미식 단위로 끊어주는 함수\n",
    "\n",
    "def money(mon):\n",
    "    a = mon\n",
    "    result = str(mon)\n",
    "    finalresult = \"\"\n",
    "    count = 0\n",
    "    while (a > 0):\n",
    "        a = a//1000\n",
    "        if(a != 0):\n",
    "            count+=1\n",
    "    for i in range(count):\n",
    "        info = -3*count\n",
    "        index = info+i*3\n",
    "        result = result[:index] + ',' + result[index:]\n",
    "        \n",
    "    return result\n",
    "#----------------\n",
    "#test\n",
    "money(1320000)\n",
    "#result = 1,320,000\n",
    "#----------------\n",
    "# O(n)"
   ]
  },
  {
   "cell_type": "code",
   "execution_count": 4,
   "metadata": {},
   "outputs": [],
   "source": [
    "import requests as rq\n",
    "import json, xmltodict\n",
    "#서비스 키는 apiKey.py를 통해 관리\n",
    "import apiKey\n",
    "\n",
    "ServiceKey = apiKey.serviceKey\n",
    "\n",
    "Year = \"2020\"\n",
    "\n",
    "#법인등록번호는 위에서 스크래핑 해온 데이터 \"CorpNum\"사용.\n",
    "#손익계산서 URL\n",
    "S_I = \"http://apis.data.go.kr/1160100/service/GetFinaStatInfoService/getIncoStat?serviceKey=\"+ServiceKey+\"&numOfRows=10&pageNo=1&numOfRows=xml&crno=\"+CorpNum+\"&bizYear=\"+Year\n",
    "#재무상태표 URL\n",
    "S_FP = \"http://apis.data.go.kr/1160100/service/GetFinaStatInfoService/getBs?serviceKey=\"+ServiceKey+\"&numOfRows=18&pageNo=1&numOfRows=xml&crno=\"+CorpNum+\"&bizYear=\"+Year"
   ]
  },
  {
   "cell_type": "markdown",
   "metadata": {},
   "source": [
    "### 손익계산서 처리"
   ]
  },
  {
   "cell_type": "code",
   "execution_count": 5,
   "metadata": {},
   "outputs": [],
   "source": [
    "S_I_content = rq.get(S_I).content\n",
    "S_I_dict = xmltodict.parse(S_I_content)"
   ]
  },
  {
   "cell_type": "code",
   "execution_count": 6,
   "metadata": {},
   "outputs": [],
   "source": [
    "#string 형태의 json\n",
    "S_I_jsonString = json.dumps(S_I_dict['response']['body']['items']['item'], ensure_ascii=False)"
   ]
  },
  {
   "cell_type": "code",
   "execution_count": 7,
   "metadata": {},
   "outputs": [
    {
     "output_type": "stream",
     "name": "stdout",
     "text": [
      "[{'acitId': 'dart_OperatingIncomeLoss', 'acitNm': '영업이익', 'basDt': '20201231', 'bizYear': '2020', 'bpvtrAcitAmt': '58886669000000', 'crno': '1301110006246', 'crtmAcitAmt': '35993876000000', 'fnclDcd': 'PL_ifrs-full_ConsolidatedMember', 'fnclDcdNm': '연결재무제표 [member]', 'lsqtAcitAmt': '0', 'pvtrAcitAmt': '27768509000000', 'thqrAcitAmt': '0'}, {'acitId': 'ifrs-full_ProfitLoss', 'acitNm': '당기순이익(손실)', 'basDt': '20201231', 'bizYear': '2020', 'bpvtrAcitAmt': '44344857000000', 'crno': '1301110006246', 'crtmAcitAmt': '26407832000000', 'fnclDcd': 'PL_ifrs-full_ConsolidatedMember', 'fnclDcdNm': '연결재무제표 [member]', 'lsqtAcitAmt': '0', 'pvtrAcitAmt': '21738865000000', 'thqrAcitAmt': '0'}, {'acitId': 'ifrs-full_ProfitLossBeforeTax', 'acitNm': '법인세비용차감전순이익(손실)', 'basDt': '20201231', 'bizYear': '2020', 'bpvtrAcitAmt': '61159958000000', 'crno': '1301110006246', 'crtmAcitAmt': '36345117000000', 'fnclDcd': 'PL_ifrs-full_ConsolidatedMember', 'fnclDcdNm': '연결재무제표 [member]', 'lsqtAcitAmt': '0', 'pvtrAcitAmt': '30432189000000', 'thqrAcitAmt': '0'}, {'acitId': 'ifrs-full_Revenue', 'acitNm': '수익(매출액)', 'basDt': '20201231', 'bizYear': '2020', 'bpvtrAcitAmt': '243771415000000', 'crno': '1301110006246', 'crtmAcitAmt': '236806988000000', 'fnclDcd': 'PL_ifrs-full_ConsolidatedMember', 'fnclDcdNm': '연결재무제표 [member]', 'lsqtAcitAmt': '0', 'pvtrAcitAmt': '230400881000000', 'thqrAcitAmt': '0'}, {'acitId': 'dart_OperatingIncomeLoss', 'acitNm': '영업이익', 'basDt': '20201231', 'bizYear': '2020', 'bpvtrAcitAmt': '43699451000000', 'crno': '1301110006246', 'crtmAcitAmt': '20518974000000', 'fnclDcd': 'PL_ifrs-full_SeparateMember', 'fnclDcdNm': '별도재무제표 [member]', 'lsqtAcitAmt': '0', 'pvtrAcitAmt': '14115067000000', 'thqrAcitAmt': '0'}, {'acitId': 'ifrs-full_ProfitLoss', 'acitNm': '당기순이익(손실)', 'basDt': '20201231', 'bizYear': '2020', 'bpvtrAcitAmt': '32815127000000', 'crno': '1301110006246', 'crtmAcitAmt': '15615018000000', 'fnclDcd': 'PL_ifrs-full_SeparateMember', 'fnclDcdNm': '별도재무제표 [member]', 'lsqtAcitAmt': '0', 'pvtrAcitAmt': '15353323000000', 'thqrAcitAmt': '0'}, {'acitId': 'ifrs-full_ProfitLossBeforeTax', 'acitNm': '법인세비용차감전순이익(손실)', 'basDt': '20201231', 'bizYear': '2020', 'bpvtrAcitAmt': '44398855000000', 'crno': '1301110006246', 'crtmAcitAmt': '20451923000000', 'fnclDcd': 'PL_ifrs-full_SeparateMember', 'fnclDcdNm': '별도재무제표 [member]', 'lsqtAcitAmt': '0', 'pvtrAcitAmt': '19032469000000', 'thqrAcitAmt': '0'}, {'acitId': 'ifrs-full_Revenue', 'acitNm': '수익(매출액)', 'basDt': '20201231', 'bizYear': '2020', 'bpvtrAcitAmt': '170381870000000', 'crno': '1301110006246', 'crtmAcitAmt': '166311191000000', 'fnclDcd': 'PL_ifrs-full_SeparateMember', 'fnclDcdNm': '별도재무제표 [member]', 'lsqtAcitAmt': '0', 'pvtrAcitAmt': '154772859000000', 'thqrAcitAmt': '0'}]\n"
     ]
    }
   ],
   "source": [
    "#string -> json\n",
    "S_I_jsonObj = json.loads(S_I_jsonString)\n",
    "print(S_I_jsonObj)"
   ]
  },
  {
   "cell_type": "code",
   "execution_count": 8,
   "metadata": {},
   "outputs": [
    {
     "output_type": "stream",
     "name": "stdout",
     "text": [
      "==== 영업이익 ====\n당분기: 0원\n당기: 35,993,876,000,000원\n전분기: 0원\n전기: 27,768,509,000,000원\n전전기: 58,886,669,000,000원\n재무제표 종류: 연결재무제표\n\n==== 당기순이익(손실) ====\n당분기: 0원\n당기: 26,407,832,000,000원\n전분기: 0원\n전기: 21,738,865,000,000원\n전전기: 44,344,857,000,000원\n재무제표 종류: 연결재무제표\n\n==== 법인세비용차감전순이익(손실) ====\n당분기: 0원\n당기: 36,345,117,000,000원\n전분기: 0원\n전기: 30,432,189,000,000원\n전전기: 61,159,958,000,000원\n재무제표 종류: 연결재무제표\n\n==== 수익(매출액) ====\n당분기: 0원\n당기: 236,806,988,000,000원\n전분기: 0원\n전기: 230,400,881,000,000원\n전전기: 243,771,415,000,000원\n재무제표 종류: 연결재무제표\n\n==== 영업이익 ====\n당분기: 0원\n당기: 20,518,974,000,000원\n전분기: 0원\n전기: 14,115,067,000,000원\n전전기: 43,699,451,000,000원\n재무제표 종류: 별도재무제표\n\n==== 당기순이익(손실) ====\n당분기: 0원\n당기: 15,615,018,000,000원\n전분기: 0원\n전기: 15,353,323,000,000원\n전전기: 32,815,127,000,000원\n재무제표 종류: 별도재무제표\n\n==== 법인세비용차감전순이익(손실) ====\n당분기: 0원\n당기: 20,451,923,000,000원\n전분기: 0원\n전기: 19,032,469,000,000원\n전전기: 44,398,855,000,000원\n재무제표 종류: 별도재무제표\n\n==== 수익(매출액) ====\n당분기: 0원\n당기: 166,311,191,000,000원\n전분기: 0원\n전기: 154,772,859,000,000원\n전전기: 170,381,870,000,000원\n재무제표 종류: 별도재무제표\n\n"
     ]
    }
   ],
   "source": [
    "for i in S_I_jsonObj:\n",
    "    print('====',i['acitNm'],'====')\n",
    "    print(\"당분기:\", money(int(i['thqrAcitAmt']))+\"원\")\n",
    "    print(\"당기:\",money(int(i['crtmAcitAmt']))+\"원\")\n",
    "    print(\"전분기:\",money(int(i['lsqtAcitAmt']))+\"원\")\n",
    "    print(\"전기:\",money(int(i['pvtrAcitAmt']))+\"원\")\n",
    "    print(\"전전기:\",money(int(i['bpvtrAcitAmt']))+\"원\")\n",
    "    if(i['fnclDcdNm'] == \"연결재무제표 [member]\"):\n",
    "        print(\"재무제표 종류:\",\"연결재무제표\\n\")\n",
    "    elif i['fnclDcdNm'] == \"별도재무제표 [member]\":\n",
    "        print(\"재무제표 종류:\",\"별도재무제표\\n\")"
   ]
  },
  {
   "cell_type": "markdown",
   "metadata": {},
   "source": [
    "### 재무상태표 처리"
   ]
  },
  {
   "cell_type": "code",
   "execution_count": 9,
   "metadata": {},
   "outputs": [],
   "source": [
    "S_FP_content = rq.get(S_FP).content\n",
    "S_FP_dict = xmltodict.parse(S_FP_content)"
   ]
  },
  {
   "cell_type": "code",
   "execution_count": 10,
   "metadata": {},
   "outputs": [],
   "source": [
    "#string 형태의 json\n",
    "S_FP_jsonString = json.dumps(S_FP_dict['response']['body']['items']['item'], ensure_ascii=False)"
   ]
  },
  {
   "cell_type": "code",
   "execution_count": 11,
   "metadata": {},
   "outputs": [],
   "source": [
    "#string -> json\n",
    "S_FP_jsonObj = json.loads(S_FP_jsonString)"
   ]
  },
  {
   "cell_type": "code",
   "execution_count": 12,
   "metadata": {},
   "outputs": [
    {
     "output_type": "stream",
     "name": "stdout",
     "text": [
      "==== 자산총계 ====\n당분기: 0원\n당기: 378,235,718,000,000원\n전분기: 0원\n전기: 352,564,497,000,000원\n전전기: 339,357,244,000,000원\n재무제표 종류: 연결재무제표\n\n==== 유동자산 ====\n당분기: 0원\n당기: 198,215,579,000,000원\n전분기: 0원\n전기: 181,385,260,000,000원\n전전기: 174,697,424,000,000원\n재무제표 종류: 연결재무제표\n\n==== 유동부채 ====\n당분기: 0원\n당기: 75,604,351,000,000원\n전분기: 0원\n전기: 63,782,764,000,000원\n전전기: 69,081,510,000,000원\n재무제표 종류: 연결재무제표\n\n==== 자본총계 ====\n당분기: 0원\n당기: 275,948,016,000,000원\n전분기: 0원\n전기: 262,880,421,000,000원\n전전기: 247,753,177,000,000원\n재무제표 종류: 연결재무제표\n\n==== 자본금 ====\n당분기: 0원\n당기: 897,514,000,000원\n전분기: 0원\n전기: 897,514,000,000원\n전전기: 897,514,000,000원\n재무제표 종류: 연결재무제표\n\n==== 부채총계 ====\n당분기: 0원\n당기: 102,287,702,000,000원\n전분기: 0원\n전기: 89,684,076,000,000원\n전전기: 91,604,067,000,000원\n재무제표 종류: 연결재무제표\n\n==== 비유동자산 ====\n당분기: 0원\n당기: 180,020,139,000,000원\n전분기: 0원\n전기: 171,179,237,000,000원\n전전기: 164,659,820,000,000원\n재무제표 종류: 연결재무제표\n\n==== 비유동부채 ====\n당분기: 0원\n당기: 26,683,351,000,000원\n전분기: 0원\n전기: 25,901,312,000,000원\n전전기: 22,522,557,000,000원\n재무제표 종류: 연결재무제표\n\n==== 이익잉여금(결손금) ====\n당분기: 0원\n당기: 271,068,211,000,000원\n전분기: 0원\n전기: 254,582,894,000,000원\n전전기: 242,698,956,000,000원\n재무제표 종류: 연결재무제표\n\n==== 자산총계 ====\n당분기: 0원\n당기: 229,664,427,000,000원\n전분기: 0원\n전기: 216,180,920,000,000원\n전전기: 219,021,357,000,000원\n재무제표 종류: 별도재무제표\n\n==== 유동자산 ====\n당분기: 0원\n당기: 73,798,549,000,000원\n전분기: 0원\n전기: 72,659,080,000,000원\n전전기: 80,039,455,000,000원\n재무제표 종류: 별도재무제표\n\n==== 유동부채 ====\n당분기: 0원\n당기: 44,412,904,000,000원\n전분기: 0원\n전기: 36,237,164,000,000원\n전전기: 43,145,053,000,000원\n재무제표 종류: 별도재무제표\n\n==== 자본총계 ====\n당분기: 0원\n당기: 183,316,724,000,000원\n전분기: 0원\n전기: 177,870,247,000,000원\n전전기: 172,988,125,000,000원\n재무제표 종류: 별도재무제표\n\n==== 자본금 ====\n당분기: 0원\n당기: 897,514,000,000원\n전분기: 0원\n전기: 897,514,000,000원\n전전기: 897,514,000,000원\n재무제표 종류: 별도재무제표\n\n==== 부채총계 ====\n당분기: 0원\n당기: 46,347,703,000,000원\n전분기: 0원\n전기: 38,310,673,000,000원\n전전기: 46,033,232,000,000원\n재무제표 종류: 별도재무제표\n\n==== 비유동자산 ====\n당분기: 0원\n당기: 155,865,878,000,000원\n전분기: 0원\n전기: 143,521,840,000,000원\n전전기: 138,981,902,000,000원\n재무제표 종류: 별도재무제표\n\n==== 비유동부채 ====\n당분기: 0원\n당기: 1,934,799,000,000원\n전분기: 0원\n전기: 2,073,509,000,000원\n전전기: 2,888,179,000,000원\n재무제표 종류: 별도재무제표\n\n==== 이익잉여금(결손금) ====\n당분기: 0원\n당기: 178,284,102,000,000원\n전분기: 0원\n전기: 172,288,326,000,000원\n전전기: 166,555,532,000,000원\n재무제표 종류: 별도재무제표\n\n"
     ]
    }
   ],
   "source": [
    "for i in S_FP_jsonObj:\n",
    "    print('====',i['acitNm'],'====')\n",
    "    print(\"당분기:\", money(int(i['thqrAcitAmt']))+\"원\")\n",
    "    print(\"당기:\",money(int(i['crtmAcitAmt']))+\"원\")\n",
    "    print(\"전분기:\",money(int(i['lsqtAcitAmt']))+\"원\")\n",
    "    print(\"전기:\",money(int(i['pvtrAcitAmt']))+\"원\")\n",
    "    print(\"전전기:\",money(int(i['bpvtrAcitAmt']))+\"원\")\n",
    "    if(i['fnclDcdNm'] == \"연결재무제표 [member]\"):\n",
    "        print(\"재무제표 종류:\",\"연결재무제표\\n\")\n",
    "    elif i['fnclDcdNm'] == \"별도재무제표 [member]\":\n",
    "        print(\"재무제표 종류:\",\"별도재무제표\\n\")"
   ]
  },
  {
   "cell_type": "code",
   "execution_count": 13,
   "metadata": {},
   "outputs": [],
   "source": [
    "''' \n",
    "@CopyRight \n",
    "\n",
    "2021-07-07\n",
    "Republic of Korea\n",
    "\n",
    "Park.Giyoun\n",
    "Hankuk University of Foreign Studies\n",
    "Industrial & Management Engineering\n",
    "'''\n",
    "\n",
    "# parameter L_asset's index\n",
    "# ----손익계산서----\n",
    "# 0 : 영업이익\n",
    "# 1 : 당기순이익\n",
    "# 2 : 법인세차감전순이익\n",
    "# 3 : 수익 (매출)\n",
    "# ----재무상태표---- \n",
    "# 4 : 자산총계\n",
    "# 5 : 유동자산\n",
    "# 6 : 유동부채\n",
    "# 7 : 자본총계\n",
    "# 8 : 자본금\n",
    "# 9 : 부채총계\n",
    "# 10: 비유동자산\n",
    "# 11: 비유동부채\n",
    "# 12: 이익잉여금 \n",
    "# TOTAL : 13개의 인덱스\n",
    "\n",
    "# result's index\n",
    "# ----수익성비율----\n",
    "# 0 : 총자산이익률(ROA)\n",
    "# 1 : 매출액순이익률\n",
    "# 2 : 매출총이익률\n",
    "# 3 : 매출액영업이익률\n",
    "# 4 : 매출액 계속사업이익률\n",
    "# ----활동성비율----\n",
    "# 5 : 총자산회전률\n",
    "# 6 : 유동자산회전률\n",
    "# 7 : 비유동자산회전률\n",
    "# ----레버리지비율(부채비율)---- \n",
    "# 8 : 부채구성비율\n",
    "# 9 : 부채비율 \n",
    "\n",
    "def rateConverter (L_asset):\n",
    "    result = []\n",
    "    # 0 총자산이익률 ROA\n",
    "    # = 매출액순이익률 * 총자산회전율 (당기순이익 / 총 자산)\n",
    "    result.append(L_asset[1]/L_asset[4])\n",
    "\n",
    "    # 1 매출액 순이익률 ROS\n",
    "    # = 당기순이익 / 매출액\n",
    "    result.append(L_asset[1]/L_asset[3])\n",
    "\n",
    "    # 2 매출 총 이익률\n",
    "    # = 매출 총 이익 / 매출액 [여기서 ROS와 매출 총 이익률은 같다.]\n",
    "    result.append(L_asset[1]/L_asset[3])\n",
    "\n",
    "    # 3 매출액 영업이익률\n",
    "    # = 영업이익 / 매출액\n",
    "    result.append(L_asset[0]/L_asset[3])\n",
    "\n",
    "    # 4 매출액 계속사업이익률\n",
    "    # = 계속사업이익(법인세 차감 전 이익) / 매출액\n",
    "    result.append(L_asset[2]/L_asset[3])\n",
    "\n",
    "    # 5 총자산회전률\n",
    "    # = 매출액 / 총 자산\n",
    "    result.append(L_asset[3]/L_asset[4])\n",
    "\n",
    "    # 6 유동자산회전률\n",
    "    # = 매출액 / 유동자산\n",
    "    result.append(L_asset[3]/L_asset[5])\n",
    "\n",
    "    # 7 비유동자산회전률\n",
    "    # = 매출액 / 비유동자산\n",
    "    result.append(L_asset[3]/L_asset[10])\n",
    "\n",
    "    # 8 부채구성비율\n",
    "    # = 총부채 / 총자산\n",
    "    result.append(L_asset[9]/L_asset[4])\n",
    "    \n",
    "    # 9 부채비율\n",
    "    # = 총부채 / 자기자본\n",
    "    result.append(L_asset[9]/L_asset[7])\n",
    "\n",
    "    return result"
   ]
  },
  {
   "cell_type": "code",
   "execution_count": 21,
   "metadata": {},
   "outputs": [
    {
     "output_type": "stream",
     "name": "stdout",
     "text": [
      "Assets: ['삼성전자', 35993876.0, 26407832.0, 36345117.0, 236806988.0, 378235718.0, 198215579.0, 75604351.0, 275948016.0, 897514.0, 102287702.0, 180020139.0, 26683351.0, 271068211.0]\n"
     ]
    }
   ],
   "source": [
    "'''\n",
    "손익계산서 정보, 재무상태표 정보 활용\n",
    "리스트 [Assets] 만들기\n",
    "\n",
    " * 당기 정보만 활용\n",
    "\n",
    "'''\n",
    "Assets = []\n",
    "#S_I_jsonObj\n",
    "#S_FP_jsonObj\n",
    "\n",
    "Assets.append(corp)\n",
    "for i in range(4):\n",
    "    Assets.append(int(S_I_jsonObj[i]['crtmAcitAmt'])/1000000)\n",
    "\n",
    "for i in range(9):\n",
    "    Assets.append(int(S_FP_jsonObj[i]['crtmAcitAmt'])/1000000)\n",
    "\n",
    "print(\"Assets:\",Assets)"
   ]
  },
  {
   "cell_type": "code",
   "execution_count": 22,
   "metadata": {},
   "outputs": [
    {
     "output_type": "stream",
     "name": "stdout",
     "text": [
      "['삼성전자', 0.0698184511490266, 0.1115162699506148, 0.1115162699506148, 0.15199668009797077, 0.1534799175774323, 0.6260830924487147, 1.1946941264389719, 1.315447201160088, 0.27043374576274154, 0.3706774322305691]\n"
     ]
    }
   ],
   "source": [
    "# 비율로 변환 후 출력 테스트\n",
    "Rates = [corp]\n",
    "Rates = Rates + rateConverter(Assets[1:])\n",
    "print(Rates)"
   ]
  },
  {
   "cell_type": "code",
   "execution_count": 23,
   "metadata": {},
   "outputs": [
    {
     "output_type": "stream",
     "name": "stdout",
     "text": [
      "{'기업명': ['삼성전자', '삼성전자'], '회계연도': [35993876.0, 35993876.0], '매출액': [26407832.0, 26407832.0], '영업이익': [36345117.0, 36345117.0], '법인세차감전순이익': [236806988.0, 236806988.0], '당기순이익': [378235718.0, 378235718.0], '자산총계': [198215579.0, 198215579.0], '유동자산': [75604351.0, 75604351.0], '자본총계': [275948016.0, 275948016.0], '자본금': [897514.0, 897514.0], '부채총계': [102287702.0, 102287702.0], '비유동부채': [180020139.0, 180020139.0], '비유동자산': [26683351.0, 26683351.0], '이익잉여금': [271068211.0, 271068211.0]}\n{'기업명': ['삼성전자', '삼성전자'], 'ROA': [0.0698184511490266, 0.0698184511490266], 'ROS': [0.1115162699506148, 0.1115162699506148], '매출총이익률': [0.1115162699506148, 0.1115162699506148], '매출액영업이익률': [0.15199668009797077, 0.15199668009797077], '매출액계속사업이익률': [0.1534799175774323, 0.1534799175774323], '총자산회전율': [0.6260830924487147, 0.6260830924487147], '유동자산회전율': [1.1946941264389719, 1.1946941264389719], '비유동자산회전율': [1.315447201160088, 1.315447201160088], '부채구성비율': [0.27043374576274154, 0.27043374576274154], '부채비율': [0.3706774322305691, 0.3706774322305691]}\n"
     ]
    }
   ],
   "source": [
    "import pandas as pd\n",
    "\n",
    "_BasicData = [\n",
    "    (\"기업명\", []),\n",
    "    (\"회계연도\", []),\n",
    "    (\"매출액\", []),\n",
    "    (\"영업이익\", []),\n",
    "    (\"법인세차감전순이익\", []),\n",
    "    (\"당기순이익\", []),\n",
    "    (\"자산총계\", []),\n",
    "    (\"유동자산\", []),\n",
    "    (\"자본총계\", []),\n",
    "    (\"자본금\", []),\n",
    "    (\"부채총계\", []),\n",
    "    (\"비유동부채\", []),\n",
    "    (\"비유동자산\", []),\n",
    "    (\"이익잉여금\", [])\n",
    "]\n",
    "_RateData  = [\n",
    "    (\"기업명\", []),\n",
    "    (\"ROA\", []),\n",
    "    (\"ROS\", []),\n",
    "    (\"매출총이익률\", []),\n",
    "    (\"매출액영업이익률\", []),\n",
    "    (\"매출액계속사업이익률\", []),\n",
    "    (\"총자산회전율\", []),\n",
    "    (\"유동자산회전율\", []),\n",
    "    (\"비유동자산회전율\", []),\n",
    "    (\"부채구성비율\", []),\n",
    "    (\"부채비율\", [])\n",
    "]\n",
    "\n",
    "for i in range(len(Assets)):\n",
    "    _BasicData[i][1].append(Assets[i])\n",
    "#========= 테스트용. (데이터프레임의 변수에는 각각 두개 이상의 요소들이 필요하다.)\n",
    "for i in range(len(Assets)):\n",
    "    _BasicData[i][1].append(Assets[i])\n",
    "\n",
    "__BasicData = dict(_BasicData)\n",
    "print(__BasicData)\n",
    "BasicData = pd.DataFrame(__BasicData)\n",
    "#=================================================\n",
    "\n",
    "\n",
    "for i in range(len(Rates)):\n",
    "    _RateData[i][1].append(Rates[i])\n",
    "#========= 테스트용. (데이터프레임의 변수에는 각각 두개 이상의 요소들이 필요하다.)\n",
    "for i in range(len(Rates)):\n",
    "    _RateData[i][1].append(Rates[i])\n",
    "\n",
    "__RateData = dict(_RateData)\n",
    "print(__RateData)\n",
    "RateData = pd.DataFrame(__RateData)\n",
    "#=================================================\n"
   ]
  },
  {
   "cell_type": "code",
   "execution_count": 24,
   "metadata": {},
   "outputs": [
    {
     "output_type": "execute_result",
     "data": {
      "text/plain": [
       "    기업명        회계연도         매출액        영업이익    법인세차감전순이익        당기순이익  \\\n",
       "0  삼성전자  35993876.0  26407832.0  36345117.0  236806988.0  378235718.0   \n",
       "1  삼성전자  35993876.0  26407832.0  36345117.0  236806988.0  378235718.0   \n",
       "\n",
       "          자산총계        유동자산         자본총계       자본금         부채총계        비유동부채  \\\n",
       "0  198215579.0  75604351.0  275948016.0  897514.0  102287702.0  180020139.0   \n",
       "1  198215579.0  75604351.0  275948016.0  897514.0  102287702.0  180020139.0   \n",
       "\n",
       "        비유동자산        이익잉여금  \n",
       "0  26683351.0  271068211.0  \n",
       "1  26683351.0  271068211.0  "
      ],
      "text/html": "<div>\n<style scoped>\n    .dataframe tbody tr th:only-of-type {\n        vertical-align: middle;\n    }\n\n    .dataframe tbody tr th {\n        vertical-align: top;\n    }\n\n    .dataframe thead th {\n        text-align: right;\n    }\n</style>\n<table border=\"1\" class=\"dataframe\">\n  <thead>\n    <tr style=\"text-align: right;\">\n      <th></th>\n      <th>기업명</th>\n      <th>회계연도</th>\n      <th>매출액</th>\n      <th>영업이익</th>\n      <th>법인세차감전순이익</th>\n      <th>당기순이익</th>\n      <th>자산총계</th>\n      <th>유동자산</th>\n      <th>자본총계</th>\n      <th>자본금</th>\n      <th>부채총계</th>\n      <th>비유동부채</th>\n      <th>비유동자산</th>\n      <th>이익잉여금</th>\n    </tr>\n  </thead>\n  <tbody>\n    <tr>\n      <th>0</th>\n      <td>삼성전자</td>\n      <td>35993876.0</td>\n      <td>26407832.0</td>\n      <td>36345117.0</td>\n      <td>236806988.0</td>\n      <td>378235718.0</td>\n      <td>198215579.0</td>\n      <td>75604351.0</td>\n      <td>275948016.0</td>\n      <td>897514.0</td>\n      <td>102287702.0</td>\n      <td>180020139.0</td>\n      <td>26683351.0</td>\n      <td>271068211.0</td>\n    </tr>\n    <tr>\n      <th>1</th>\n      <td>삼성전자</td>\n      <td>35993876.0</td>\n      <td>26407832.0</td>\n      <td>36345117.0</td>\n      <td>236806988.0</td>\n      <td>378235718.0</td>\n      <td>198215579.0</td>\n      <td>75604351.0</td>\n      <td>275948016.0</td>\n      <td>897514.0</td>\n      <td>102287702.0</td>\n      <td>180020139.0</td>\n      <td>26683351.0</td>\n      <td>271068211.0</td>\n    </tr>\n  </tbody>\n</table>\n</div>"
     },
     "metadata": {},
     "execution_count": 24
    }
   ],
   "source": [
    "BasicData"
   ]
  },
  {
   "cell_type": "code",
   "execution_count": 25,
   "metadata": {},
   "outputs": [
    {
     "output_type": "execute_result",
     "data": {
      "text/plain": [
       "    기업명       ROA       ROS    매출총이익률  매출액영업이익률  매출액계속사업이익률    총자산회전율  \\\n",
       "0  삼성전자  0.069818  0.111516  0.111516  0.151997     0.15348  0.626083   \n",
       "1  삼성전자  0.069818  0.111516  0.111516  0.151997     0.15348  0.626083   \n",
       "\n",
       "    유동자산회전율  비유동자산회전율    부채구성비율      부채비율  \n",
       "0  1.194694  1.315447  0.270434  0.370677  \n",
       "1  1.194694  1.315447  0.270434  0.370677  "
      ],
      "text/html": "<div>\n<style scoped>\n    .dataframe tbody tr th:only-of-type {\n        vertical-align: middle;\n    }\n\n    .dataframe tbody tr th {\n        vertical-align: top;\n    }\n\n    .dataframe thead th {\n        text-align: right;\n    }\n</style>\n<table border=\"1\" class=\"dataframe\">\n  <thead>\n    <tr style=\"text-align: right;\">\n      <th></th>\n      <th>기업명</th>\n      <th>ROA</th>\n      <th>ROS</th>\n      <th>매출총이익률</th>\n      <th>매출액영업이익률</th>\n      <th>매출액계속사업이익률</th>\n      <th>총자산회전율</th>\n      <th>유동자산회전율</th>\n      <th>비유동자산회전율</th>\n      <th>부채구성비율</th>\n      <th>부채비율</th>\n    </tr>\n  </thead>\n  <tbody>\n    <tr>\n      <th>0</th>\n      <td>삼성전자</td>\n      <td>0.069818</td>\n      <td>0.111516</td>\n      <td>0.111516</td>\n      <td>0.151997</td>\n      <td>0.15348</td>\n      <td>0.626083</td>\n      <td>1.194694</td>\n      <td>1.315447</td>\n      <td>0.270434</td>\n      <td>0.370677</td>\n    </tr>\n    <tr>\n      <th>1</th>\n      <td>삼성전자</td>\n      <td>0.069818</td>\n      <td>0.111516</td>\n      <td>0.111516</td>\n      <td>0.151997</td>\n      <td>0.15348</td>\n      <td>0.626083</td>\n      <td>1.194694</td>\n      <td>1.315447</td>\n      <td>0.270434</td>\n      <td>0.370677</td>\n    </tr>\n  </tbody>\n</table>\n</div>"
     },
     "metadata": {},
     "execution_count": 25
    }
   ],
   "source": [
    "RateData"
   ]
  },
  {
   "cell_type": "code",
   "execution_count": null,
   "metadata": {},
   "outputs": [],
   "source": []
  }
 ],
 "metadata": {
  "interpreter": {
   "hash": "2db524e06e9f5f4ffedc911c917cb75e12dbc923643829bf417064a77eb14d37"
  },
  "kernelspec": {
   "name": "python3",
   "display_name": "Python 3.8.5 64-bit"
  },
  "language_info": {
   "codemirror_mode": {
    "name": "ipython",
    "version": 3
   },
   "file_extension": ".py",
   "mimetype": "text/x-python",
   "name": "python",
   "nbconvert_exporter": "python",
   "pygments_lexer": "ipython3",
   "version": "3.8.5"
  }
 },
 "nbformat": 4,
 "nbformat_minor": 2
}